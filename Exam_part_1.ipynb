{
  "nbformat": 4,
  "nbformat_minor": 0,
  "metadata": {
    "colab": {
      "provenance": []
    },
    "kernelspec": {
      "name": "python3",
      "display_name": "Python 3"
    },
    "language_info": {
      "name": "python"
    }
  },
  "cells": [
    {
      "cell_type": "markdown",
      "source": [
        "Part 1:"
      ],
      "metadata": {
        "id": "UJef0g4JUzgr"
      }
    },
    {
      "cell_type": "code",
      "execution_count": 9,
      "metadata": {
        "colab": {
          "base_uri": "https://localhost:8080/"
        },
        "id": "NHUpWZ_XEGab",
        "outputId": "e5e1ef55-6ab4-4e77-d0db-6a433705a788"
      },
      "outputs": [
        {
          "output_type": "stream",
          "name": "stdout",
          "text": [
            "1\n",
            "4\n",
            "9\n",
            "16\n",
            "25\n",
            "36\n",
            "49\n",
            "64\n",
            "81\n",
            "100\n",
            "121\n",
            "144\n",
            "169\n",
            "196\n",
            "225\n",
            "256\n",
            "289\n",
            "324\n",
            "361\n",
            "400\n"
          ]
        }
      ],
      "source": [
        "#Task 1: Write a program using a for loop to print the square of numbers from 1 to 20.\n",
        "for i in range(1,21): #this line is iterating with the for cicle inside the range of numbers from 1 to 20 (but if we want to consider 20 we should put 21)\n",
        "    print(i**2) #this line is printing the square of every number within the range."
      ]
    },
    {
      "cell_type": "code",
      "source": [
        "#Task 2: Define a function check_grades (grades) that: Takes a list of numbers(grades).\n",
        "#For each grade, prints: \"Pass\" if the grade is 81 or more. \"Try again\" otherwise.Test it with a list of at least 5 grades.\n",
        "def check_grades(grades): #i used 'def' to define the function that i called check_grades and when i call it i would need to add the grades in parenthesis.\n",
        "    for grade in grades: #the for cicle will take every grade at a time.\n",
        "        if grade >= 81: #this line defines the condition for grade and printing 'Pass' if the condition is true.\n",
        "            print(\"Pass\")\n",
        "        else: #if the previous condition is false, then the output will be 'Try again'.\n",
        "            print(\"Try again\")\n",
        "\n",
        "test_grades = [80, 60, 95, 72, 75] #i added this list of grades to test the function, as requested.\n",
        "check_grades(test_grades) #i call the function and insert the previous list of grades between parenthesis to use the function\n",
        "#in every single grade inside the list.\n"
      ],
      "metadata": {
        "colab": {
          "base_uri": "https://localhost:8080/"
        },
        "id": "9-0ekSX0FGa-",
        "outputId": "ca3469e1-03a9-44eb-e203-777dcc494fed"
      },
      "execution_count": 10,
      "outputs": [
        {
          "output_type": "stream",
          "name": "stdout",
          "text": [
            "Try again\n",
            "Try again\n",
            "Pass\n",
            "Try again\n",
            "Try again\n"
          ]
        }
      ]
    },
    {
      "cell_type": "code",
      "source": [
        "#Task 3: Write a function count_vowels(text) that counts the number of vowels (a, e, i, o, u) in a given string.\n",
        "#Print the count and also print how many times each vowel appears.\n",
        "#Your string: “Without big data analytics, companies are blind and deaf, wandering … like deer on a freeway.”  Geoffrey Moore\n",
        "def count_vowels(text): #this line defines the function that will count the vowels and when i call it i will need to ad a text between parenthesis.\n",
        "    vowels = 'aeiouAEIOU' #defining what are the vowels, i added them in upper and lower case to avoid mistakes.\n",
        "    vowel_count = 0 #this line will count the vowels, it should starts from zero.\n",
        "    vowel_counts = {'a': 0, 'e': 0, 'i': 0, 'o': 0, 'u': 0} #this line creates a dictionary to count the number of times that every vowel appears.\n",
        "    for char in text: #this line initiates a for cicle to iterate every character in the text that i will insert.\n",
        "        if char in vowels: #if the character was founded inside the variable vowels that ws defined before the output will add 1 to the variable vowel count that i created previously.\n",
        "            vowel_count += 1\n",
        "            if char.lower() in vowel_counts: #this line  checks if the lowercase version of the current character (char.lower()) is a key in the vowel counts dictionary that i created previousy.\n",
        "                vowel_counts[char.lower()] += 1 #if the condition is true it will add +1.\n",
        "    print(\"Total number of vowels: \",vowel_count) #this line is printing the total number of vowels (the count).\n",
        "    print(\"Vowel counts:\") #this line helps printing every vowel separetly.\n",
        "    for vowel, count in vowel_counts.items(): #with this for cicle the script is iterating every vowel.\n",
        "        print(vowel,\":\",count) #this is printing the vowel and the specific count of each vowel.\n",
        "\n",
        "text = \"Without big data analytics, companies are blind and deaf, wandering … like deer on a freeway.” Geoffrey Moore\" #this is the text that will be used to test the function.\n",
        "count_vowels(text) #this is the function and between parenthesis i put the previous text."
      ],
      "metadata": {
        "colab": {
          "base_uri": "https://localhost:8080/"
        },
        "id": "3-mQ8B8qGP2q",
        "outputId": "4325d646-031b-44c3-a876-d4db9fe1b21a"
      },
      "execution_count": 11,
      "outputs": [
        {
          "output_type": "stream",
          "name": "stdout",
          "text": [
            "Total number of vowels:  37\n",
            "Vowel counts:\n",
            "a : 11\n",
            "e : 12\n",
            "i : 7\n",
            "o : 6\n",
            "u : 1\n"
          ]
        }
      ]
    },
    {
      "cell_type": "code",
      "source": [
        "#Task 4: You are designing a simple data collection tool where users keep entering numbers until they decide to stop.\n",
        "#This is useful in real-life scenarios such as survey inputs, form data, or sensor readings. Write a program that:\n",
        "#1. Asks the user to enter numbers one by one.\n",
        "#2. Keeps storing them in a list.\n",
        "#3. The loop continues until the user enters \"done\" (case insensitive).\n",
        "#4. After exiting the loop, the program prints:The total number of values entered and The average of the numbers\n",
        "#(rounded to 2 decimal places).\n",
        "#Skip empty inputs or non-numeric entries with a message like \"Invalid input. Try again.\"\n",
        "#Use a while loop.\n",
        "\n",
        "numbers = [] #i created a list to put all the numbers entered by the user\n",
        "while True: #i used the while cicle because the request was to enter numbers until the user wants to stop\n",
        "    user_input = input(\"Enter a number (enter the word 'done' when finished): \") #this line is requesting the user to enter a number or the word 'done' if he has finished entering numbers.\n",
        "    if user_input.lower() == 'done': #this line is saying that if the user writes the word 'done' the cicle while will be ended by a break.\n",
        "        break #if the previous condition is true the cicle finishes with this break.\n",
        "    try: #this block contains the code that might cause an error, in this case it's trying to convert the user_input to a float number using float(user_input) and then appending it to the numbers list.\n",
        "        num = float(user_input)\n",
        "        numbers.append(num)\n",
        "    except ValueError:\n",
        "        print(\"Invalid input. Try again.\") #and in the case of an error this will be the printed message.\n",
        "\n",
        "print(\"Total number of values entered: \",len(numbers)) #this line is printing the total number of values entered by the user.\n",
        "if numbers: #this block is starting the\n",
        "    average = sum(numbers) / len(numbers) #this line is showing the average by dividing the sum of the numbers and the total quantity of numbers.\n",
        "    print(\"Average of the numbers: \",average) #this is printing the average of all the numbers.\n"
      ],
      "metadata": {
        "colab": {
          "base_uri": "https://localhost:8080/"
        },
        "id": "kjhhXYIRRZqp",
        "outputId": "dffe7cea-36f4-45e4-ae9a-177ab2a1a278"
      },
      "execution_count": 12,
      "outputs": [
        {
          "output_type": "stream",
          "name": "stdout",
          "text": [
            "Enter a number (enter the word 'done' when finished): 4\n",
            "Enter a number (enter the word 'done' when finished): 2\n",
            "Enter a number (enter the word 'done' when finished): done\n",
            "Total number of values entered:  2\n",
            "Average of the numbers:  3.0\n"
          ]
        }
      ]
    },
    {
      "cell_type": "code",
      "source": [
        "#Task 5: You are analyzing customer purchase data where each customer can make multiple purchases.\n",
        "#The data is stored in a list of tuples like this\n",
        "#[(\"Alice\", 120), (\"Bob\", 80), (\"Alice\", 50), (\"Bob\", 20), (\"Clara\", 200)]\n",
        "#Write a program that:\n",
        "#1. Iterates over the list of purchases.\n",
        "#2. Stores total purchases per customer using a dictionary.\n",
        "#3. Prints out how much each customer spent in total.\n",
        "#Expected Output Example:\n",
        "#Alice spent $170\n",
        "#Bob spent $100 …\n",
        "purchases = [(\"Alice\", 120), (\"Bob\", 80), (\"Alice\", 50), (\"Bob\", 20), (\"Clara\", 200)] #this is creating the list of tuples as requested.\n",
        "customer_totals = {} #this is creating an empty dictionary.\n",
        "\n",
        "for customer, amount in purchases: #this block starts a for cicle to iterates the list of purchases\n",
        "  if customer in customer_totals: #if the customer is in customer totals it will add +1 to the amount\n",
        "    customer_totals[customer] += amount\n",
        "  else:\n",
        "    customer_totals[customer] = amount #and if its not iamounts will stay the same\n",
        "\n",
        "for customer, total in customer_totals.items():\n",
        "  print(customer,\"spent $\",total)"
      ],
      "metadata": {
        "colab": {
          "base_uri": "https://localhost:8080/"
        },
        "id": "XsTLx9rRJo1q",
        "outputId": "9cc5ddbf-0bd3-4b3f-ee79-089271002bdb"
      },
      "execution_count": 13,
      "outputs": [
        {
          "output_type": "stream",
          "name": "stdout",
          "text": [
            "Alice spent $ 170\n",
            "Bob spent $ 100\n",
            "Clara spent $ 200\n"
          ]
        }
      ]
    },
    {
      "cell_type": "code",
      "source": [
        "pip install wbdata #to install wbdata fot the next excercise"
      ],
      "metadata": {
        "colab": {
          "base_uri": "https://localhost:8080/",
          "height": 979
        },
        "id": "vQ7xaT3ihPW5",
        "outputId": "a6eff43b-5b68-4625-a5ae-b3edcca4c647"
      },
      "execution_count": 15,
      "outputs": [
        {
          "output_type": "stream",
          "name": "stdout",
          "text": [
            "Collecting wbdata\n",
            "  Downloading wbdata-1.0.0-py3-none-any.whl.metadata (2.6 kB)\n",
            "Collecting appdirs<2.0,>=1.4 (from wbdata)\n",
            "  Downloading appdirs-1.4.4-py2.py3-none-any.whl.metadata (9.0 kB)\n",
            "Collecting backoff<3.0.0,>=2.2.1 (from wbdata)\n",
            "  Downloading backoff-2.2.1-py3-none-any.whl.metadata (14 kB)\n",
            "Requirement already satisfied: cachetools<6.0.0,>=5.3.2 in /usr/local/lib/python3.11/dist-packages (from wbdata) (5.5.2)\n",
            "Collecting dateparser<2.0.0,>=1.2.0 (from wbdata)\n",
            "  Downloading dateparser-1.2.2-py3-none-any.whl.metadata (29 kB)\n",
            "Collecting decorator<6.0.0,>=5.1.1 (from wbdata)\n",
            "  Downloading decorator-5.2.1-py3-none-any.whl.metadata (3.9 kB)\n",
            "Requirement already satisfied: requests<3.0,>=2.0 in /usr/local/lib/python3.11/dist-packages (from wbdata) (2.32.3)\n",
            "Collecting shelved-cache<0.4.0,>=0.3.1 (from wbdata)\n",
            "  Downloading shelved_cache-0.3.1-py3-none-any.whl.metadata (4.7 kB)\n",
            "Collecting tabulate<0.9.0,>=0.8.5 (from wbdata)\n",
            "  Downloading tabulate-0.8.10-py3-none-any.whl.metadata (25 kB)\n",
            "Requirement already satisfied: python-dateutil>=2.7.0 in /usr/local/lib/python3.11/dist-packages (from dateparser<2.0.0,>=1.2.0->wbdata) (2.9.0.post0)\n",
            "Requirement already satisfied: pytz>=2024.2 in /usr/local/lib/python3.11/dist-packages (from dateparser<2.0.0,>=1.2.0->wbdata) (2025.2)\n",
            "Requirement already satisfied: regex>=2024.9.11 in /usr/local/lib/python3.11/dist-packages (from dateparser<2.0.0,>=1.2.0->wbdata) (2024.11.6)\n",
            "Requirement already satisfied: tzlocal>=0.2 in /usr/local/lib/python3.11/dist-packages (from dateparser<2.0.0,>=1.2.0->wbdata) (5.3.1)\n",
            "Requirement already satisfied: charset-normalizer<4,>=2 in /usr/local/lib/python3.11/dist-packages (from requests<3.0,>=2.0->wbdata) (3.4.2)\n",
            "Requirement already satisfied: idna<4,>=2.5 in /usr/local/lib/python3.11/dist-packages (from requests<3.0,>=2.0->wbdata) (3.10)\n",
            "Requirement already satisfied: urllib3<3,>=1.21.1 in /usr/local/lib/python3.11/dist-packages (from requests<3.0,>=2.0->wbdata) (2.4.0)\n",
            "Requirement already satisfied: certifi>=2017.4.17 in /usr/local/lib/python3.11/dist-packages (from requests<3.0,>=2.0->wbdata) (2025.7.14)\n",
            "Requirement already satisfied: six>=1.5 in /usr/local/lib/python3.11/dist-packages (from python-dateutil>=2.7.0->dateparser<2.0.0,>=1.2.0->wbdata) (1.17.0)\n",
            "Downloading wbdata-1.0.0-py3-none-any.whl (18 kB)\n",
            "Downloading appdirs-1.4.4-py2.py3-none-any.whl (9.6 kB)\n",
            "Downloading backoff-2.2.1-py3-none-any.whl (15 kB)\n",
            "Downloading dateparser-1.2.2-py3-none-any.whl (315 kB)\n",
            "\u001b[2K   \u001b[90m━━━━━━━━━━━━━━━━━━━━━━━━━━━━━━━━━━━━━━━━\u001b[0m \u001b[32m315.5/315.5 kB\u001b[0m \u001b[31m7.9 MB/s\u001b[0m eta \u001b[36m0:00:00\u001b[0m\n",
            "\u001b[?25hDownloading decorator-5.2.1-py3-none-any.whl (9.2 kB)\n",
            "Downloading shelved_cache-0.3.1-py3-none-any.whl (7.8 kB)\n",
            "Downloading tabulate-0.8.10-py3-none-any.whl (29 kB)\n",
            "Installing collected packages: appdirs, tabulate, shelved-cache, decorator, backoff, dateparser, wbdata\n",
            "  Attempting uninstall: tabulate\n",
            "    Found existing installation: tabulate 0.9.0\n",
            "    Uninstalling tabulate-0.9.0:\n",
            "      Successfully uninstalled tabulate-0.9.0\n",
            "  Attempting uninstall: decorator\n",
            "    Found existing installation: decorator 4.4.2\n",
            "    Uninstalling decorator-4.4.2:\n",
            "      Successfully uninstalled decorator-4.4.2\n",
            "\u001b[31mERROR: pip's dependency resolver does not currently take into account all the packages that are installed. This behaviour is the source of the following dependency conflicts.\n",
            "ipython 7.34.0 requires jedi>=0.16, which is not installed.\n",
            "bigframes 2.10.0 requires tabulate>=0.9, but you have tabulate 0.8.10 which is incompatible.\n",
            "moviepy 1.0.3 requires decorator<5.0,>=4.0.2, but you have decorator 5.2.1 which is incompatible.\u001b[0m\u001b[31m\n",
            "\u001b[0mSuccessfully installed appdirs-1.4.4 backoff-2.2.1 dateparser-1.2.2 decorator-5.2.1 shelved-cache-0.3.1 tabulate-0.8.10 wbdata-1.0.0\n"
          ]
        },
        {
          "output_type": "display_data",
          "data": {
            "application/vnd.colab-display-data+json": {
              "pip_warning": {
                "packages": [
                  "decorator"
                ]
              },
              "id": "6e088fd96784451c93db27e76efdb472"
            }
          },
          "metadata": {}
        }
      ]
    },
    {
      "cell_type": "code",
      "source": [
        "#Task 6: Use the wbdata package to get Population data for the country:\n",
        "#Estonia from 2010 to 2020. Print the results in a readable way (country, year, population).\n",
        "import wbdata #importing the libraries\n",
        "import pandas as pd\n",
        "\n",
        "indicator = {\"SP.POP.TOTL\": \"Population\"} #this defines the indicator and country\n",
        "country = \"EE\"  # Estonia\n",
        "\n",
        "df = wbdata.get_dataframe(indicator, country=country) #defines the data inside a data frame\n",
        "\n",
        "df = df.reset_index() # this line reeset index so 'date' becomes a column\n",
        "\n",
        "df['date'] = pd.to_datetime(df['date'], errors='coerce') #this line converts 'date' column to datetime\n",
        "\n",
        "df = df[(df['date'].dt.year >= 2010) & (df['date'].dt.year <= 2020)] #this line filters for years 2010 to 2020\n",
        "\n",
        "df = df.sort_values('date', ascending=False) #this line sorts by year descending\n",
        "\n",
        "print(\"📊 Population Data for Estonia (2010–2020):\\n\")\n",
        "for _, row in df.iterrows():\n",
        "    year = row[\"date\"].year\n",
        "    population = int(row[\"Population\"])\n",
        "    print(f\"Country: Estonia | Year: {year} | Population: {population:,}\")"
      ],
      "metadata": {
        "colab": {
          "base_uri": "https://localhost:8080/"
        },
        "id": "a0hTYSmyZC-y",
        "outputId": "b852a5f9-bdfa-4aa0-f492-af533947eb7c"
      },
      "execution_count": 16,
      "outputs": [
        {
          "output_type": "stream",
          "name": "stdout",
          "text": [
            "📊 Population Data for Estonia (2010–2020):\n",
            "\n",
            "Country: Estonia | Year: 2020 | Population: 1,329,522\n",
            "Country: Estonia | Year: 2019 | Population: 1,326,898\n",
            "Country: Estonia | Year: 2018 | Population: 1,321,977\n",
            "Country: Estonia | Year: 2017 | Population: 1,317,384\n",
            "Country: Estonia | Year: 2016 | Population: 1,315,790\n",
            "Country: Estonia | Year: 2015 | Population: 1,315,407\n",
            "Country: Estonia | Year: 2014 | Population: 1,314,545\n",
            "Country: Estonia | Year: 2013 | Population: 1,317,997\n",
            "Country: Estonia | Year: 2012 | Population: 1,322,696\n",
            "Country: Estonia | Year: 2011 | Population: 1,327,439\n",
            "Country: Estonia | Year: 2010 | Population: 1,331,475\n"
          ]
        }
      ]
    }
  ]
}